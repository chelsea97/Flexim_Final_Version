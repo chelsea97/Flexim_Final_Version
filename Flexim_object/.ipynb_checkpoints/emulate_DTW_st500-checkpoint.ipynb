{
 "cells": [
  {
   "cell_type": "code",
   "execution_count": 1,
   "id": "693d4db2",
   "metadata": {},
   "outputs": [],
   "source": [
    "import pandas as pd\n",
    "data = pd.read_csv(\"./\"+\"all_stocks_5yr.csv\",index_col = None)"
   ]
  },
  {
   "cell_type": "code",
   "execution_count": 2,
   "id": "27cab443",
   "metadata": {},
   "outputs": [],
   "source": [
    "data = data[\"close\"].values"
   ]
  },
  {
   "cell_type": "code",
   "execution_count": 3,
   "id": "544b77c0",
   "metadata": {},
   "outputs": [],
   "source": [
    "from sklearn.preprocessing import MinMaxScaler\n",
    "scaler = MinMaxScaler()\n",
    "data = scaler.fit_transform(data.reshape(-1,1))"
   ]
  },
  {
   "cell_type": "code",
   "execution_count": 4,
   "id": "e42742e1",
   "metadata": {},
   "outputs": [],
   "source": [
    "import numpy as np\n",
    "import pandas as pd\n",
    "from sklearn.model_selection import train_test_split\n",
    "import skopt\n",
    "from scikeras.wrappers import KerasClassifier\n",
    "import tensorflow as tf\n",
    "from modAL.batch import uncertainty_batch_sampling\n",
    "#from Active_Emulate_TestD_gp import Active_Emulate_Test as ace\n",
    "#from NN import NN as nn\n",
    "from keras.utils.np_utils import to_categorical\n",
    "from sklearn.preprocessing import MinMaxScaler\n",
    "from dtaidistance import dtw\n",
    "from numpy import dot\n",
    "from numpy.linalg import norm\n",
    "import sys\n",
    "from sklearn.utils import shuffle\n",
    "import copy\n",
    "import emulate_st500 as et\n",
    "import importlib\n",
    "import Active_Emulate_TestD_st500 as at\n",
    "import NN_st500 as nt"
   ]
  },
  {
   "cell_type": "code",
   "execution_count": 5,
   "id": "23011dae",
   "metadata": {},
   "outputs": [],
   "source": [
    "parameter_directory = \"all_stocks_5yr\"\n",
    "file = open(\"./\"+parameter_directory+\".txt\",\"r\")\n",
    "lines = file.readlines()\n",
    "sample_size = int(lines[0].strip('\\n'))\n",
    "simi_kind = 3\n",
    "cluster_number = int(lines[2].strip('\\n'))"
   ]
  },
  {
   "cell_type": "code",
   "execution_count": 6,
   "id": "4da85d9f",
   "metadata": {},
   "outputs": [],
   "source": [
    "#emulate single new\n",
    "def obj(params,params_2,simi_kind):\n",
    "    print(\"simi_kind is {}\".format(simi_kind))\n",
    "    emulate = et.Emulate_TestD(data,parameter_directory,simi_kind,cluster_number,sample_size)\n",
    "    emulate.load_encoder_model(parameter_directory)\n",
    "    emulate.load_kmeans_model(parameter_directory)\n",
    "    emulate.__init_lin__()\n",
    "    emulate.__init_both_cluster_directory__(cluster_number)\n",
    "    emulate.__init_limit_dictionary__()\n",
    "    emulate.add_cluster_dict()\n",
    "    emulate.get_max_distance(instance_number = 30000)\n",
    "    emulate.load_parameter(params_2)\n",
    "    emulate.sample()\n",
    "    emulate.__fetch__(simi_kind,params)\n",
    "    print(\"total query time is {}\".format(emulate.total_query_time))\n",
    "    print(\"wass distance flexim is {}\".format(emulate.wasserstein_distance_flexim))\n",
    "    print('#######################################################################################')\n",
    "    return emulate.wasserstein_distance_flexim"
   ]
  },
  {
   "cell_type": "code",
   "execution_count": 20,
   "id": "21781f58",
   "metadata": {},
   "outputs": [],
   "source": [
    "nt = importlib.reload(nt)"
   ]
  },
  {
   "cell_type": "code",
   "execution_count": 21,
   "id": "0939be1e",
   "metadata": {},
   "outputs": [
    {
     "name": "stdout",
     "output_type": "stream",
     "text": [
      "simi_kind is 3\n",
      "WARNING:tensorflow:No training configuration found in save file, so the model was *not* compiled. Compile it manually.\n",
      "length of distance list is 30000\n",
      "self.max_distance is 13.016\n",
      "random value is 40\n",
      "start point is 395718\n",
      "has already got sample\n",
      "self.training_done is False\n",
      "run first fetch\n",
      "new1\n",
      "1 binary fetch\n",
      "self.training_done is False\n",
      "run active learning fetch for current cluster\n",
      "generate naive complex alpha parameter\n",
      "finish generating naive parameters for current cluster\n",
      "finish generating naive parameters for current cluster\n",
      "initial active learner model\n",
      "active learning keras model run\n",
      "gamma is 10\n",
      "label smoothing is 0\n"
     ]
    },
    {
     "name": "stderr",
     "output_type": "stream",
     "text": [
      "2022-09-21 22:04:02.925711: I tensorflow/core/grappler/optimizers/custom_graph_optimizer_registry.cc:113] Plugin optimizer for device_type GPU is enabled.\n"
     ]
    },
    {
     "name": "stdout",
     "output_type": "stream",
     "text": [
      "3/3 [==============================] - 0s 36ms/step - loss: 0.0015 - accuracy: 0.5500\n",
      "5/5 [==============================] - 0s 11ms/step - loss: 9.1383e-04 - accuracy: 0.6000\n",
      "run into active learning emulate process\n",
      "1/1 [==============================] - 0s 41ms/step\n",
      "active learning initial score is 0.762\n",
      "emulate train unlabel shape is (192, 9)\n",
      "query instance shape is (48, 9)\n",
      "query instance shape is (44, 9)\n",
      "transform result shape is (44, 100)\n",
      "6/6 [==============================] - 0s 2ms/step\n",
      "query instance shape is (10, 9)\n",
      "query instance shape is (10, 9)\n",
      "transform result shape is (10, 100)\n",
      "train\n",
      "X shape is (10, 9)\n",
      "Y shape is (10,)\n",
      "6/6 [==============================] - 0s 17ms/step - loss: 6.1844e-04 - accuracy: 0.7588\n"
     ]
    },
    {
     "name": "stderr",
     "output_type": "stream",
     "text": [
      "2022-09-21 22:04:03.332350: I tensorflow/core/grappler/optimizers/custom_graph_optimizer_registry.cc:113] Plugin optimizer for device_type GPU is enabled.\n"
     ]
    },
    {
     "name": "stdout",
     "output_type": "stream",
     "text": [
      "2/2 [==============================] - 0s 10ms/step\n",
      "1 time active learning score is 0.432\n",
      "6/6 [==============================] - 0s 4ms/step\n",
      "query instance shape is (10, 9)\n",
      "query instance shape is (9, 9)\n",
      "transform result shape is (9, 100)\n",
      "train\n",
      "X shape is (9, 9)\n",
      "Y shape is (9,)\n",
      "6/6 [==============================] - 0s 18ms/step - loss: 5.4057e-04 - accuracy: 0.7542\n",
      "2/2 [==============================] - 0s 4ms/step\n",
      "2 time active learning score is 0.455\n",
      "6/6 [==============================] - 0s 3ms/step\n",
      "query instance shape is (10, 9)\n",
      "query instance shape is (8, 9)\n",
      "transform result shape is (8, 100)\n",
      "train\n",
      "X shape is (8, 9)\n",
      "Y shape is (8,)\n",
      "6/6 [==============================] - 0s 16ms/step - loss: 5.1154e-04 - accuracy: 0.7754\n",
      "2/2 [==============================] - 0s 2ms/step\n",
      "3 time active learning score is 0.432\n",
      "2/2 [==============================] - 0s 3ms/step\n",
      "6/6 [==============================] - 0s 4ms/step\n",
      "query instance shape is (10, 9)\n",
      "query instance shape is (10, 9)\n",
      "transform result shape is (10, 100)\n",
      "train\n",
      "X shape is (10, 9)\n",
      "Y shape is (10,)\n",
      "7/7 [==============================] - 0s 14ms/step - loss: 5.0144e-04 - accuracy: 0.7563\n",
      "2/2 [==============================] - 0s 3ms/step\n",
      "4 time active learning score is 0.5\n",
      "2/2 [==============================] - 0s 3ms/step\n",
      "5/5 [==============================] - 0s 4ms/step\n",
      "query instance shape is (10, 9)\n",
      "query instance shape is (9, 9)\n",
      "transform result shape is (9, 100)\n",
      "train\n",
      "X shape is (9, 9)\n",
      "Y shape is (9,)\n",
      "7/7 [==============================] - 0s 14ms/step - loss: 4.6297e-04 - accuracy: 0.7718\n",
      "2/2 [==============================] - 0s 4ms/step\n",
      "5 time active learning score is 0.545\n",
      "2/2 [==============================] - 0s 4ms/step\n",
      "5/5 [==============================] - 0s 4ms/step\n",
      "query instance shape is (10, 9)\n",
      "query instance shape is (10, 9)\n",
      "transform result shape is (10, 100)\n",
      "train\n",
      "X shape is (10, 9)\n",
      "Y shape is (10,)\n",
      "7/7 [==============================] - 0s 14ms/step - loss: 4.2457e-04 - accuracy: 0.8056\n",
      "2/2 [==============================] - 0s 3ms/step\n",
      "6 time active learning score is 0.568\n",
      "2/2 [==============================] - 0s 4ms/step\n",
      "5/5 [==============================] - 0s 4ms/step\n",
      "query instance shape is (10, 9)\n",
      "query instance shape is (9, 9)\n",
      "transform result shape is (9, 100)\n",
      "train\n",
      "X shape is (9, 9)\n",
      "Y shape is (9,)\n",
      "8/8 [==============================] - 0s 15ms/step - loss: 4.1293e-04 - accuracy: 0.8133\n",
      "2/2 [==============================] - 0s 3ms/step\n",
      "7 time active learning score is 0.614\n",
      "2/2 [==============================] - 0s 4ms/step\n",
      "4/4 [==============================] - 0s 5ms/step\n",
      "query instance shape is (10, 9)\n",
      "query instance shape is (10, 9)\n",
      "transform result shape is (10, 100)\n",
      "train\n",
      "X shape is (10, 9)\n",
      "Y shape is (10,)\n",
      "8/8 [==============================] - 0s 13ms/step - loss: 4.2274e-04 - accuracy: 0.7872\n",
      "2/2 [==============================] - 0s 3ms/step\n",
      "8 time active learning score is 0.659\n",
      "2/2 [==============================] - 0s 3ms/step\n",
      "4/4 [==============================] - 0s 4ms/step\n",
      "query instance shape is (10, 9)\n",
      "query instance shape is (10, 9)\n",
      "transform result shape is (10, 100)\n",
      "train\n",
      "X shape is (10, 9)\n",
      "Y shape is (10,)\n",
      "8/8 [==============================] - 0s 13ms/step - loss: 3.8954e-04 - accuracy: 0.8490\n",
      "2/2 [==============================] - 0s 3ms/step\n",
      "9 time active learning score is 0.705\n",
      "2/2 [==============================] - 0s 3ms/step\n",
      "4/4 [==============================] - 0s 5ms/step\n",
      "query instance shape is (10, 9)\n",
      "query instance shape is (9, 9)\n",
      "transform result shape is (9, 100)\n",
      "train\n",
      "X shape is (9, 9)\n",
      "Y shape is (9,)\n",
      "8/8 [==============================] - 0s 13ms/step - loss: 3.7385e-04 - accuracy: 0.7953\n",
      "2/2 [==============================] - 0s 2ms/step\n",
      "10 time active learning score is 0.75\n",
      "2/2 [==============================] - 0s 3ms/step\n",
      "emulate process finishes\n",
      "query time is 10\n",
      "first stage total query time is 10\n",
      "self.training_done is True\n",
      "run next cluster\n",
      "random value is 106\n",
      "start point is 36071\n",
      "has already resample\n",
      "self.training_done is False\n",
      "run first fetch\n",
      "new1\n",
      "2 binary fetch\n",
      "self.training_done is False\n",
      "run active learning fetch for current cluster\n",
      "generate naive complex alpha parameter\n",
      "finish generating naive parameters for current cluster\n",
      "finish generating naive parameters for current cluster\n",
      "continue training active learner mdoel\n",
      "teach active learning model\n",
      "11/11 [==============================] - 0s 8ms/step - loss: 5.4552e-04 - accuracy: 0.7545\n",
      "train unlabel shape is (192, 9)\n",
      "run into active learning emulate process\n",
      "1/1 [==============================] - 0s 10ms/step\n",
      "active learning initial score is 0.762\n",
      "emulate train unlabel shape is (192, 9)\n",
      "query instance shape is (48, 9)\n",
      "query instance shape is (48, 9)\n",
      "transform result shape is (48, 100)\n",
      "6/6 [==============================] - 0s 2ms/step\n",
      "query instance shape is (10, 9)\n",
      "query instance shape is (10, 9)\n",
      "transform result shape is (10, 100)\n",
      "train\n",
      "X shape is (10, 9)\n",
      "Y shape is (10,)\n",
      "11/11 [==============================] - 0s 8ms/step - loss: 4.1532e-04 - accuracy: 0.8052\n",
      "2/2 [==============================] - 0s 4ms/step\n",
      "1 time active learning score is 0.771\n",
      "6/6 [==============================] - 0s 2ms/step\n",
      "query instance shape is (10, 9)\n",
      "query instance shape is (10, 9)\n",
      "transform result shape is (10, 100)\n",
      "train\n",
      "X shape is (10, 9)\n",
      "Y shape is (10,)\n",
      "12/12 [==============================] - 0s 11ms/step - loss: 3.5862e-04 - accuracy: 0.8559\n",
      "2/2 [==============================] - 0s 3ms/step\n",
      "2 time active learning score is 0.688\n",
      "6/6 [==============================] - 0s 2ms/step\n",
      "query instance shape is (10, 9)\n",
      "query instance shape is (10, 9)\n",
      "transform result shape is (10, 100)\n",
      "train\n",
      "X shape is (10, 9)\n",
      "Y shape is (10,)\n",
      "12/12 [==============================] - 0s 11ms/step - loss: 3.1837e-04 - accuracy: 0.8626\n",
      "2/2 [==============================] - 0s 3ms/step\n",
      "3 time active learning score is 0.729\n",
      "2/2 [==============================] - 0s 3ms/step\n",
      "6/6 [==============================] - 0s 2ms/step\n",
      "query instance shape is (10, 9)\n",
      "query instance shape is (10, 9)\n",
      "transform result shape is (10, 100)\n",
      "train\n",
      "X shape is (10, 9)\n",
      "Y shape is (10,)\n",
      "12/12 [==============================] - 0s 11ms/step - loss: 3.5215e-04 - accuracy: 0.8636\n",
      "2/2 [==============================] - 0s 3ms/step\n",
      "4 time active learning score is 0.75\n",
      "2/2 [==============================] - 0s 2ms/step\n",
      "5/5 [==============================] - 0s 2ms/step\n",
      "query instance shape is (10, 9)\n",
      "query instance shape is (10, 9)\n",
      "transform result shape is (10, 100)\n",
      "train\n",
      "X shape is (10, 9)\n",
      "Y shape is (10,)\n",
      "12/12 [==============================] - 0s 7ms/step - loss: 3.2122e-04 - accuracy: 0.8542\n",
      "2/2 [==============================] - 0s 3ms/step\n",
      "5 time active learning score is 0.854\n",
      "2/2 [==============================] - 0s 3ms/step\n",
      "emulate process finishes\n",
      "query time is 5\n",
      "first stage total query time is 15\n",
      "self.training_done is True\n",
      "run next cluster\n",
      "random value is 2\n",
      "start point is 70704\n",
      "has already resample\n",
      "self.training_done is False\n",
      "run first fetch\n",
      "new1\n",
      "3 binary fetch\n",
      "self.training_done is False\n",
      "run active learning fetch for current cluster\n",
      "generate naive complex alpha parameter\n",
      "finish generating naive parameters for current cluster\n",
      "finish generating naive parameters for current cluster\n",
      "continue training active learner mdoel\n",
      "teach active learning model\n",
      "15/15 [==============================] - 0s 8ms/step - loss: 3.9459e-04 - accuracy: 0.8190\n",
      "train unlabel shape is (192, 9)\n",
      "run into active learning emulate process\n",
      "1/1 [==============================] - 0s 10ms/step\n",
      "active learning initial score is 0.714\n",
      "emulate train unlabel shape is (192, 9)\n",
      "query instance shape is (48, 9)\n",
      "query instance shape is (44, 9)\n",
      "transform result shape is (44, 100)\n",
      "6/6 [==============================] - 0s 2ms/step\n",
      "query instance shape is (10, 9)\n",
      "query instance shape is (10, 9)\n",
      "transform result shape is (10, 100)\n",
      "train\n",
      "X shape is (10, 9)\n",
      "Y shape is (10,)\n",
      "15/15 [==============================] - 0s 10ms/step - loss: 4.2020e-04 - accuracy: 0.8523\n",
      "2/2 [==============================] - 0s 3ms/step\n",
      "1 time active learning score is 0.795\n",
      "6/6 [==============================] - 0s 2ms/step\n",
      "query instance shape is (10, 9)\n",
      "query instance shape is (9, 9)\n",
      "transform result shape is (9, 100)\n",
      "train\n",
      "X shape is (9, 9)\n",
      "Y shape is (9,)\n"
     ]
    },
    {
     "name": "stdout",
     "output_type": "stream",
     "text": [
      "16/16 [==============================] - 0s 11ms/step - loss: 3.6862e-04 - accuracy: 0.8282\n",
      "2/2 [==============================] - 0s 3ms/step\n",
      "2 time active learning score is 0.886\n",
      "6/6 [==============================] - 0s 2ms/step\n",
      "query instance shape is (10, 9)\n",
      "query instance shape is (9, 9)\n",
      "transform result shape is (9, 100)\n",
      "train\n",
      "X shape is (9, 9)\n",
      "Y shape is (9,)\n",
      "16/16 [==============================] - 0s 8ms/step - loss: 2.7849e-04 - accuracy: 0.8862\n",
      "2/2 [==============================] - 0s 3ms/step\n",
      "3 time active learning score is 0.909\n",
      "2/2 [==============================] - 0s 3ms/step\n",
      "emulate process finishes\n",
      "query time is 3\n",
      "first stage total query time is 18\n",
      "self.training_done is True\n",
      "finish all cluster binary and active search\n",
      "make modification new new\n",
      "generate DTW naive positive and negative data\n",
      "\u001b[2m\u001b[36m(generator pid=24893)\u001b[0m has change code 3\n",
      "\u001b[2m\u001b[36m(generator pid=24892)\u001b[0m has change code 3\n",
      "\u001b[2m\u001b[36m(generator pid=24890)\u001b[0m has change code 3\n",
      "length of next_result_table is 2\n",
      "result table shape is (9000, 101)\n",
      "\u001b[2m\u001b[36m(generator pid=24891)\u001b[0m has change code 3\n",
      "\u001b[2m\u001b[36m(generator pid=24889)\u001b[0m has change code 3\n",
      "finish generating complex parameters for all clusters and predict label by using active learner\n",
      "shape of table is (150000, 9)\n",
      "finish split\n",
      "finish generate label\n",
      "train data shape is (92115, 10)\n",
      "validate data shape is (23027, 10)\n",
      "938/938 [==============================] - 2s 2ms/step\n",
      "initial active learning accuracy is 0.76\n",
      "720/720 [==============================] - 1s 2ms/step\n",
      "further learning teach, generate more data\n",
      "2879/2879 [==============================] - 5s 2ms/step\n",
      "train complex shape is (92115, 10)\n",
      "query index shape is (10,)\n",
      "16/16 [==============================] - 0s 8ms/step - loss: 2.0474e-04 - accuracy: 0.9402\n",
      "720/720 [==============================] - 1s 2ms/step\n",
      "1 time fur active learning score is 0.804\n",
      "720/720 [==============================] - 1s 2ms/step\n",
      "second stage total query time is 1\n",
      "total query time is 19\n",
      "938/938 [==============================] - 2s 2ms/step\n",
      "final AL accuracy is 0.79\n",
      "train complex is (92115, 9)\n",
      "valid complex is (23027, 9)\n",
      "2879/2879 [==============================] - 5s 2ms/step\n",
      "2879/2879 [==============================] - 5s 2ms/step\n",
      "720/720 [==============================] - 1s 2ms/step\n",
      "720/720 [==============================] - 1s 2ms/step\n",
      "draw predict_prob data distribution figure\n",
      "flexim predict prob shape is (115142, 1)\n",
      "real prob shape is (115142, 1)\n"
     ]
    },
    {
     "data": {
      "image/png": "[encoded data removed]",
      "text/plain": [
       "<Figure size 640x480 with 2 Axes>"
      ]
     },
     "metadata": {},
     "output_type": "display_data"
    },
    {
     "name": "stdout",
     "output_type": "stream",
     "text": [
      "real prob shape is (115142, 1)\n",
      "score shape is (9000, 1)\n",
      "real train data shape is (101115, 101)\n",
      "flexim train data shape is (101115, 101)\n",
      "draw predict_proba data distribution figure after adding naive data\n"
     ]
    },
    {
     "data": {
      "image/png": "[encoded data removed]",
      "text/plain": [
       "<Figure size 640x480 with 2 Axes>"
      ]
     },
     "metadata": {},
     "output_type": "display_data"
    },
    {
     "name": "stdout",
     "output_type": "stream",
     "text": [
      "***** begin training *****\n",
      "neg number flexim is 36957\n",
      "pos number flexim is 64158\n",
      "use bias is False\n",
      "gamma is 21\n",
      "label smoothing is 0.8\n",
      "new version 1\n",
      "Epoch 1/10\n"
     ]
    },
    {
     "name": "stderr",
     "output_type": "stream",
     "text": [
      "2022-09-21 22:04:49.784115: I tensorflow/core/grappler/optimizers/custom_graph_optimizer_registry.cc:113] Plugin optimizer for device_type GPU is enabled.\n"
     ]
    },
    {
     "name": "stdout",
     "output_type": "stream",
     "text": [
      "3160/3160 [==============================] - ETA: 0s - loss: 3.0241e-07 - accuracy: 0.6815 - precision: 0.7689 - recall: 0.7121"
     ]
    },
    {
     "name": "stderr",
     "output_type": "stream",
     "text": [
      "2022-09-21 22:05:24.167938: I tensorflow/core/grappler/optimizers/custom_graph_optimizer_registry.cc:113] Plugin optimizer for device_type GPU is enabled.\n"
     ]
    },
    {
     "name": "stdout",
     "output_type": "stream",
     "text": [
      "3160/3160 [==============================] - 39s 12ms/step - loss: 3.0241e-07 - accuracy: 0.6815 - precision: 0.7689 - recall: 0.7121 - val_loss: 2.7732e-07 - val_accuracy: 0.7652 - val_precision: 0.8431 - val_recall: 0.7849\n",
      "Epoch 2/10\n",
      "3160/3160 [==============================] - 38s 12ms/step - loss: 2.7757e-07 - accuracy: 0.7377 - precision: 0.7928 - recall: 0.7941 - val_loss: 2.7472e-07 - val_accuracy: 0.7572 - val_precision: 0.8458 - val_recall: 0.7662\n",
      "Epoch 3/10\n",
      "3160/3160 [==============================] - 38s 12ms/step - loss: 2.7193e-07 - accuracy: 0.7393 - precision: 0.7906 - recall: 0.8013 - val_loss: 2.7196e-07 - val_accuracy: 0.7623 - val_precision: 0.8383 - val_recall: 0.7861\n",
      "Epoch 4/10\n",
      "3160/3160 [==============================] - 38s 12ms/step - loss: 2.6902e-07 - accuracy: 0.7457 - precision: 0.7939 - recall: 0.8093 - val_loss: 2.6743e-07 - val_accuracy: 0.7687 - val_precision: 0.8356 - val_recall: 0.8021\n",
      "Epoch 5/10\n",
      "3160/3160 [==============================] - 38s 12ms/step - loss: 2.6714e-07 - accuracy: 0.7624 - precision: 0.8143 - recall: 0.8102 - val_loss: 2.6597e-07 - val_accuracy: 0.7693 - val_precision: 0.8360 - val_recall: 0.8027\n",
      "Epoch 6/10\n",
      "3160/3160 [==============================] - 38s 12ms/step - loss: 2.6549e-07 - accuracy: 0.7724 - precision: 0.8284 - recall: 0.8089 - val_loss: 2.6501e-07 - val_accuracy: 0.7691 - val_precision: 0.8345 - val_recall: 0.8045\n",
      "Epoch 7/10\n",
      "3160/3160 [==============================] - 37s 12ms/step - loss: 2.6393e-07 - accuracy: 0.7803 - precision: 0.8393 - recall: 0.8085 - val_loss: 2.6584e-07 - val_accuracy: 0.7651 - val_precision: 0.8359 - val_recall: 0.7947\n",
      "Epoch 8/10\n",
      "3160/3160 [==============================] - 37s 12ms/step - loss: 2.6244e-07 - accuracy: 0.7816 - precision: 0.8443 - recall: 0.8040 - val_loss: 2.7011e-07 - val_accuracy: 0.7607 - val_precision: 0.8498 - val_recall: 0.7677\n",
      "Epoch 9/10\n",
      "3160/3160 [==============================] - 38s 12ms/step - loss: 2.6084e-07 - accuracy: 0.7830 - precision: 0.8462 - recall: 0.8042 - val_loss: 2.6513e-07 - val_accuracy: 0.7637 - val_precision: 0.8441 - val_recall: 0.7809\n",
      "Epoch 10/10\n",
      "3160/3160 [==============================] - 38s 12ms/step - loss: 2.5917e-07 - accuracy: 0.7824 - precision: 0.8486 - recall: 0.7997 - val_loss: 2.5692e-07 - val_accuracy: 0.7744 - val_precision: 0.8306 - val_recall: 0.8204\n",
      "neg number is 32121\n",
      "pos number is 68994\n",
      "use bias is False\n",
      "gamma is 21\n",
      "label smoothing is 0.8\n",
      "new version 1\n",
      "Epoch 1/10\n"
     ]
    },
    {
     "name": "stderr",
     "output_type": "stream",
     "text": [
      "2022-09-21 22:11:09.416214: I tensorflow/core/grappler/optimizers/custom_graph_optimizer_registry.cc:113] Plugin optimizer for device_type GPU is enabled.\n"
     ]
    },
    {
     "name": "stdout",
     "output_type": "stream",
     "text": [
      "3160/3160 [==============================] - ETA: 0s - loss: 2.5880e-07 - accuracy: 0.7742 - precision: 0.9056 - recall: 0.7469"
     ]
    },
    {
     "name": "stderr",
     "output_type": "stream",
     "text": [
      "2022-09-21 22:11:43.290568: I tensorflow/core/grappler/optimizers/custom_graph_optimizer_registry.cc:113] Plugin optimizer for device_type GPU is enabled.\n"
     ]
    },
    {
     "name": "stdout",
     "output_type": "stream",
     "text": [
      "3160/3160 [==============================] - 39s 12ms/step - loss: 2.5880e-07 - accuracy: 0.7742 - precision: 0.9056 - recall: 0.7469 - val_loss: 1.7990e-07 - val_accuracy: 0.8987 - val_precision: 0.9829 - val_recall: 0.8705\n",
      "Epoch 2/10\n",
      "3160/3160 [==============================] - 38s 12ms/step - loss: 1.6896e-07 - accuracy: 0.8727 - precision: 0.9122 - recall: 0.9001 - val_loss: 1.3764e-07 - val_accuracy: 0.9190 - val_precision: 0.9708 - val_recall: 0.9117\n",
      "Epoch 3/10\n",
      "3160/3160 [==============================] - 38s 12ms/step - loss: 1.4264e-07 - accuracy: 0.8857 - precision: 0.9158 - recall: 0.9168 - val_loss: 1.2184e-07 - val_accuracy: 0.9249 - val_precision: 0.9658 - val_recall: 0.9255\n",
      "Epoch 4/10\n",
      "3160/3160 [==============================] - 38s 12ms/step - loss: 1.3048e-07 - accuracy: 0.9116 - precision: 0.9486 - recall: 0.9204 - val_loss: 1.1300e-07 - val_accuracy: 0.9287 - val_precision: 0.9667 - val_recall: 0.9302\n",
      "Epoch 5/10\n",
      "3160/3160 [==============================] - 38s 12ms/step - loss: 1.2180e-07 - accuracy: 0.9221 - precision: 0.9610 - recall: 0.9233 - val_loss: 1.0697e-07 - val_accuracy: 0.9303 - val_precision: 0.9692 - val_recall: 0.9301\n",
      "Epoch 6/10\n",
      "3160/3160 [==============================] - 38s 12ms/step - loss: 1.1387e-07 - accuracy: 0.9275 - precision: 0.9665 - recall: 0.9258 - val_loss: 1.0067e-07 - val_accuracy: 0.9346 - val_precision: 0.9695 - val_recall: 0.9361\n",
      "Epoch 7/10\n",
      "3160/3160 [==============================] - 38s 12ms/step - loss: 1.0574e-07 - accuracy: 0.9332 - precision: 0.9698 - recall: 0.9311 - val_loss: 9.3837e-08 - val_accuracy: 0.9405 - val_precision: 0.9722 - val_recall: 0.9419\n",
      "Epoch 8/10\n",
      "3160/3160 [==============================] - 38s 12ms/step - loss: 9.6881e-08 - accuracy: 0.9405 - precision: 0.9739 - recall: 0.9380 - val_loss: 8.8312e-08 - val_accuracy: 0.9443 - val_precision: 0.9797 - val_recall: 0.9399\n",
      "Epoch 9/10\n",
      "3160/3160 [==============================] - 39s 12ms/step - loss: 8.8209e-08 - accuracy: 0.9477 - precision: 0.9777 - recall: 0.9449 - val_loss: 7.5830e-08 - val_accuracy: 0.9551 - val_precision: 0.9770 - val_recall: 0.9584\n",
      "Epoch 10/10\n",
      "3160/3160 [==============================] - 39s 12ms/step - loss: 7.9992e-08 - accuracy: 0.9539 - precision: 0.9808 - recall: 0.9511 - val_loss: 7.3660e-08 - val_accuracy: 0.9561 - val_precision: 0.9852 - val_recall: 0.9516\n",
      "change to regression\n",
      "run gen_complex_active_data\n",
      "generate complex data\n",
      "len of problem index list is 0\n",
      "test data shape is (28785, 100)\n",
      " 79/900 [=>............................] - ETA: 1s"
     ]
    },
    {
     "name": "stderr",
     "output_type": "stream",
     "text": [
      "2022-09-21 22:17:32.898082: I tensorflow/core/grappler/optimizers/custom_graph_optimizer_registry.cc:113] Plugin optimizer for device_type GPU is enabled.\n"
     ]
    },
    {
     "name": "stdout",
     "output_type": "stream",
     "text": [
      "900/900 [==============================] - 2s 2ms/step\n",
      "score list flexim min and max is 0.0 1.0\n",
      "score list flexim std is 0.19335396587848663\n",
      " 82/900 [=>............................] - ETA: 1s"
     ]
    },
    {
     "name": "stderr",
     "output_type": "stream",
     "text": [
      "2022-09-21 22:17:34.713863: I tensorflow/core/grappler/optimizers/custom_graph_optimizer_registry.cc:113] Plugin optimizer for device_type GPU is enabled.\n"
     ]
    },
    {
     "name": "stdout",
     "output_type": "stream",
     "text": [
      "900/900 [==============================] - 2s 2ms/step\n",
      "score list mreal min and max is 0.0 0.9999999403953552\n",
      "score list mreal std is 0.32253503799438477\n",
      "measure similarity score based on simi kind you choose\n",
      "score list real min and max is 0.0 1.0000000000000002\n",
      "score list real std is 0.19471220834299907\n",
      "emd flexim is 0.009036715942946777\n",
      "emd real is 0.11223901272579631\n"
     ]
    },
    {
     "data": {
      "image/png": "[encoded data removed]",
      "text/plain": [
       "<Figure size 640x480 with 3 Axes>"
      ]
     },
     "metadata": {},
     "output_type": "display_data"
    },
    {
     "name": "stdout",
     "output_type": "stream",
     "text": [
      "total query time is 19\n",
      "wass distance flexim is 0.009036715942946777\n",
      "#######################################################################################\n"
     ]
    }
   ],
   "source": [
    "params = [-2.16,6,9]\n",
    "params_2 = [10,0,20,0]\n",
    "flexim_wass = obj(params,params_2,simi_kind)"
   ]
  },
  {
   "cell_type": "code",
   "execution_count": null,
   "id": "8dc056ef",
   "metadata": {},
   "outputs": [],
   "source": []
  }
 ],
 "metadata": {
  "kernelspec": {
   "display_name": "Python 3 (ipykernel)",
   "language": "python",
   "name": "python3"
  },
  "language_info": {
   "codemirror_mode": {
    "name": "ipython",
    "version": 3
   },
   "file_extension": ".py",
   "mimetype": "text/x-python",
   "name": "python",
   "nbconvert_exporter": "python",
   "pygments_lexer": "ipython3",
   "version": "3.9.10"
  }
 },
 "nbformat": 4,
 "nbformat_minor": 5
}
