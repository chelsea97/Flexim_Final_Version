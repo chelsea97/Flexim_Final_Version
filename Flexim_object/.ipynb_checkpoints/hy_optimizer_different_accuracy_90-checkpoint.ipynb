{
 "cells": [
  {
   "cell_type": "code",
   "execution_count": 1,
   "id": "428406da",
   "metadata": {},
   "outputs": [],
   "source": [
    "import pandas as pd\n",
    "data = pd.read_csv(\"./\"+\"all_stocks_5yr.csv\",index_col = None)\n",
    "data = data[\"close\"].values\n",
    "from sklearn.preprocessing import MinMaxScaler\n",
    "scaler = MinMaxScaler()\n",
    "data = scaler.fit_transform(data.reshape(-1,1))"
   ]
  },
  {
   "cell_type": "code",
   "execution_count": 2,
   "id": "7b63033f",
   "metadata": {},
   "outputs": [],
   "source": [
    "import numpy as np\n",
    "import pandas as pd\n",
    "from sklearn.model_selection import train_test_split\n",
    "import skopt\n",
    "from scikeras.wrappers import KerasClassifier\n",
    "import tensorflow as tf\n",
    "from modAL.batch import uncertainty_batch_sampling\n",
    "#from Active_Emulate_TestD_gp import Active_Emulate_Test as ace\n",
    "#from NN import NN as nn\n",
    "from keras.utils.np_utils import to_categorical\n",
    "from sklearn.preprocessing import MinMaxScaler\n",
    "from dtaidistance import dtw\n",
    "from numpy import dot\n",
    "from numpy.linalg import norm\n",
    "import sys\n",
    "from sklearn.utils import shuffle\n",
    "import copy\n",
    "import emulate_st500_em_new_by as et\n",
    "import importlib\n",
    "import Active_Emulate_st500_em_by as at"
   ]
  },
  {
   "cell_type": "code",
   "execution_count": null,
   "id": "36f3e9f4",
   "metadata": {},
   "outputs": [],
   "source": [
    "parameter_directory = \"all_stocks_5yr\"\n",
    "file = open(\"./\"+parameter_directory+\".txt\",\"r\")\n",
    "lines = file.readlines()\n",
    "sample_size = int(lines[0].strip('\\n'))\n",
    "simi_kind = 3\n",
    "cluster_number = int(lines[2].strip('\\n'))\n",
    "similarity_threshold = 0.9"
   ]
  }
 ],
 "metadata": {
  "kernelspec": {
   "display_name": "Python 3 (ipykernel)",
   "language": "python",
   "name": "python3"
  },
  "language_info": {
   "codemirror_mode": {
    "name": "ipython",
    "version": 3
   },
   "file_extension": ".py",
   "mimetype": "text/x-python",
   "name": "python",
   "nbconvert_exporter": "python",
   "pygments_lexer": "ipython3",
   "version": "3.9.10"
  }
 },
 "nbformat": 4,
 "nbformat_minor": 5
}
